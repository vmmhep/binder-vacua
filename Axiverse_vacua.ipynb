{
 "cells": [
  {
   "cell_type": "code",
   "execution_count": 1,
   "metadata": {},
   "outputs": [
    {
     "name": "stdout",
     "output_type": "stream",
     "text": [
      "\n",
      "Welcome to Nemo version 0.28.0\n",
      "\n",
      "Nemo comes with absolutely no warranty whatsoever\n",
      "\n"
     ]
    }
   ],
   "source": [
    "using Combinatorics\n",
    "using ArbNumerics\n",
    "using GenericLinearAlgebra\n",
    "using LinearAlgebra\n",
    "using TimerOutputs\n",
    "using Optim\n",
    "using LineSearches\n",
    "using Tullio\n",
    "using Nemo\n",
    "using Random\n",
    "using Distributions"
   ]
  },
  {
   "cell_type": "code",
   "execution_count": 14,
   "metadata": {},
   "outputs": [
    {
     "data": {
      "text/plain": [
       "pseudo_Lprime"
      ]
     },
     "execution_count": 14,
     "metadata": {},
     "output_type": "execute_result"
    }
   ],
   "source": [
    "\"\"\"\n",
    "    pseudo_Qprime(h11,tri,cy)\n",
    "Generates a Q-matrix with similar properties as database Qs\n",
    "\"\"\"\n",
    "function pseudo_Qprime(h11,tri,cy=1)\n",
    "    Qh11 = Matrix{Int}(I,h11,h11)\n",
    "    Q4 = rand(-5:5,(4,h11))\n",
    "    Q = vcat(Qh11,Q4)\n",
    "    return Q\n",
    "end\n",
    "\"\"\"\n",
    "    pseudo_:prime(h11,tri,cy)\n",
    "Generates vector of hierarchical instanton scales\n",
    "\"\"\"\n",
    "function pseudo_Lprime(h11,tri,cy=1)\n",
    "    Ltemp::Vector{ArbFloat} = sort(vcat([1,0.9,0.8,[rand(ArbFloat)*10. ^-(5*(j-1)) for j=4:h11+4]...]),rev=true)\n",
    "    return shuffle(Ltemp)\n",
    "end"
   ]
  },
  {
   "cell_type": "code",
   "execution_count": 3,
   "metadata": {},
   "outputs": [
    {
     "data": {
      "text/plain": [
       "vacua_out"
      ]
     },
     "execution_count": 3,
     "metadata": {},
     "output_type": "execute_result"
    }
   ],
   "source": [
    "\"\"\"\n",
    "    vacua_out(h11,Q,L)\n",
    "Computes analytic estimate of number of vacua as a ratio of the volumes of the \n",
    "exact symmetries of the potential (θparallel) and the approximate symmetries of the leading\n",
    "potential inv(Qtilde)\n",
    "\n",
    "Returns:\n",
    " - number of vacua\n",
    " - volume of potential\n",
    " - volume of lattice containing minima in fundamental domain\n",
    "\"\"\"\n",
    "function vacua_out(h11::Int,QV::Matrix,LV::Vector)\n",
    "    S, T, U = snf_with_transform(matrix(Nemo.ZZ,QV))\n",
    "    Tparallel = Int.(inv(T)[:,1:h11])\n",
    "    θparalleltest = inv(transpose(QV) * QV) * transpose(QV) * Tparallel\n",
    "    P = h11+4\n",
    "    while rank(QV[1:P,:])!=h11\n",
    "        P+=1\n",
    "    end\n",
    "    Lp, Qp = LV[1:P], QV[1:P,:]\n",
    "    Qtilde = Qp[1,:]\n",
    "    Qdtilde = zeros(size(Qp[1,:]))\n",
    "    for i=2:size(Qp,1)\n",
    "        S = MatrixSpace(Nemo.ZZ, size(Qtilde,1), (size(Qtilde,2)+1))\n",
    "        m = S(hcat(Qtilde,Qp[i,:]))\n",
    "        (d,bmat) = Nemo.nullspace(m)\n",
    "        if d == 0\n",
    "            Qtilde = hcat(Qtilde,Qp[i,:])\n",
    "        else\n",
    "            Qdtilde = hcat(Qdtilde,Qp[i,:])\n",
    "        end\n",
    "    end\n",
    "    vacua = round(abs(det(θparalleltest)) / det(inv(Qtilde)))\n",
    "    return abs(vacua), Rational.(round.(θparalleltest; digits=10)), Qtilde\n",
    "end"
   ]
  },
  {
   "cell_type": "code",
   "execution_count": 4,
   "metadata": {},
   "outputs": [
    {
     "data": {
      "text/plain": [
       "minimiser_timing"
      ]
     },
     "execution_count": 4,
     "metadata": {},
     "output_type": "execute_result"
    }
   ],
   "source": [
    "###################################\n",
    "#### Code for profiling ###########\n",
    "###################################\n",
    "\n",
    "\"\"\"\n",
    "    minimiser_timing(h11,tri,cy,LV,QV,x0,algo)\n",
    "Optimization function for a particular geometry labelled by `h11`, `tri`, and `cy`.  Takes instanton scales, `Λ`, \n",
    "and instanton charges, `Q`, as inputs, as well as some initialisation coordinates `x0`.  Requires specification\n",
    "of optimisation algorithm _with hessian_, `algo`, _i.e._ `Newton()` or `BFGS()`\n",
    "\n",
    "Also computes analytic estimate of number of vacua.\n",
    "\n",
    "Returns:\n",
    " - Sign of location of minimum found (mod 2π)\n",
    " - log10 of location of minimum found (mod 2π)\n",
    " - Matrix of approximate locations of minima (analytic)\n",
    "\"\"\"\n",
    "function minimiser_timing(h11::Int,tri::Int,cy::Int,LV::Vector,QV::Matrix{Int},x0::Vector,algo)\n",
    "    reset_timer!()\n",
    "    \"\"\"\n",
    "        vacua_out(h11,Q,L)\n",
    "    Computes analytic estimate of number of vacua as a ratio of the volumes of the \n",
    "    exact symmetries of the potential (θparallel) and the approximate symmetries of the leading\n",
    "    potential inv(Qtilde)\n",
    "    \n",
    "    Returns:\n",
    "     - number of vacua\n",
    "     - volume of potential\n",
    "     - volume of lattice containing minima in fundamental domain\n",
    "    \"\"\"\n",
    "    @timeit \"vacua_analytic\" function vacua_out(h11::Int,QV::Matrix,LV::Vector)\n",
    "        S, T, U = snf_with_transform(matrix(Nemo.ZZ,QV))\n",
    "        Tparallel = Int.(inv(T)[:,1:h11])\n",
    "#         Tparallel = convert(Matrix{Int},Tparallel)\n",
    "        θparalleltest = inv(transpose(QV) * QV) * transpose(QV) * Tparallel\n",
    "        P = h11+4\n",
    "        while rank(QV[1:P,:])!=h11\n",
    "            P+=1\n",
    "        end\n",
    "        Lp, Qp = LV[1:P], QV[1:P,:]\n",
    "        Qtilde = Qp[1,:]\n",
    "        Qdtilde = zeros(size(Qp[1,:]))\n",
    "        for i=2:size(Qp,1)\n",
    "            S = MatrixSpace(Nemo.ZZ, size(Qtilde,1), (size(Qtilde,2)+1))\n",
    "            m = S(hcat(Qtilde,Qp[i,:]))\n",
    "            (d,bmat) = Nemo.nullspace(m)\n",
    "            if d == 0\n",
    "                Qtilde = hcat(Qtilde,Qp[i,:])\n",
    "            else\n",
    "                Qdtilde = hcat(Qdtilde,Qp[i,:])\n",
    "            end\n",
    "        end\n",
    "        vacua = round(abs(det(θparalleltest)) / det(inv(Qtilde)))\n",
    "        return abs(vacua), Rational.(round.(θparalleltest; digits=10)), Qtilde\n",
    "    end\n",
    "    Qx = zeros(ArbFloat,size(QV,1));\n",
    "    \"\"\"\n",
    "        fitness(x)\n",
    "    This is the potential that is optimized at with some initial starting point x\n",
    "    \"\"\"\n",
    "    @timeit \"V\" function fitness(x::Vector)\n",
    "        if size(x,1)!=h11\n",
    "            return \"Error, check x\"\n",
    "        end\n",
    "        V = dot(LV,(1 .- cos.(LinearAlgebra.mul!(Qx,QV,x))))\n",
    "        return V\n",
    "    end\n",
    "    \"\"\"\n",
    "        g!(x)\n",
    "    Updatable gradient of the potential at a point x for optimiser\n",
    "    \"\"\"\n",
    "    @timeit \"gradient\" function g!(storage::Vector, x::Vector)\n",
    "        storage .= vcat([dot(LV,QV[:,i] .* sin.(LinearAlgebra.mul!(Qx,QV,x))) for i ∈ 1:h11]...)\n",
    "    end\n",
    "    \"\"\"\n",
    "        hess(x)\n",
    "    Hessian evaluated at x to verify eigvals(H(x))>0\n",
    "    \"\"\"\n",
    "    @timeit \"hess_check\" function hess(x::Vector)\n",
    "        grad2 = zeros(ArbFloat,(h11,h11))\n",
    "        hind1 = [[x,y]::Vector{Int64} for x=1:h11,y=1:h11 if x>=y]\n",
    "        grad2_temp = zeros(ArbFloat,size(hind1,1))\n",
    "        grad2_temp1 = zeros(Float64,size(LV,1),size(hind1,1))\n",
    "        @tullio Qx[c] = QV[c,i] * x[i]\n",
    "        @tullio grad2_temp1[c,k] = @inbounds(begin\n",
    "        i,j = hind1[k]\n",
    "                QV[c,i] * QV[c,j] * cos.(Qx[c]) end) grad=false fastmath=false\n",
    "        @tullio grad2_temp[k] = grad2_temp1[c,k] * LV[c]\n",
    "        @inbounds for i=1:size(hind1,1)\n",
    "            j,k = hind1[i]\n",
    "            grad2[j,k] = grad2_temp[i]\n",
    "        end\n",
    "        hessfull = Hermitian(grad2 + transpose(grad2) - Diagonal(grad2))\n",
    "    end\n",
    "    \"\"\"\n",
    "        hess!(x)\n",
    "    Updatable version of hessian for optimiser\n",
    "    \"\"\"\n",
    "    @timeit \"hess_test\" function hess!(hessian::Matrix, x::Vector)\n",
    "        grad2 = zeros(ArbFloat,(h11,h11))\n",
    "        hind1 = [[x,y]::Vector{Int64} for x=1:h11,y=1:h11 if x>=y]\n",
    "        grad2_temp = zeros(ArbFloat,size(hind1,1))\n",
    "        grad2_temp1 = zeros(Float64,size(LV,1),size(hind1,1))\n",
    "        @timeit \"Qx\" begin \n",
    "            @tullio Qx[c] = QV[c,i] * x[i]\n",
    "        end\n",
    "        @timeit \"grad2Q\" begin\n",
    "            @tullio grad2_temp1[c,k] = @inbounds(begin\n",
    "        i,j = hind1[k]\n",
    "                QV[c,i] * QV[c,j] * cos.(Qx[c]) end) grad=false\n",
    "        end\n",
    "        @timeit \"grad2LQ\" begin @tullio grad2_temp[k] = grad2_temp1[c,k] * LV[c]\n",
    "        end\n",
    "        @timeit \"grad2\" @inbounds for i=1:size(hind1,1)\n",
    "            j,k = hind1[i]\n",
    "            grad2[j,k] = grad2_temp[i]\n",
    "        end\n",
    "        @timeit \"storage\" hessian .= grad2 + transpose(grad2) - Diagonal(grad2)\n",
    "    end\n",
    "    \"\"\"\n",
    "        grad(x)\n",
    "    Gradient of potential at x for verifying G(x)>0 at minimum\n",
    "    \"\"\"\n",
    "    grad(x) = vcat([dot(LV,QV[:,i] .* sin.(LinearAlgebra.mul!(Qx,QV,x))) for i ∈ 1:h11]...)\n",
    "    #################\n",
    "    ### Optimiser ###\n",
    "    #################\n",
    "    @timeit \"optim\" res = optimize(fitness,g!,hess!,\n",
    "                x0, algo,\n",
    "                Optim.Options(x_tol =minimum(abs.(LV)),g_tol =minimum(abs.(LV)),successive_f_tol = 5))\n",
    "    Vmin = Optim.minimum(res)\n",
    "    xmin = Optim.minimizer(res)\n",
    "    #####################\n",
    "    ## Verify minimum ###\n",
    "    ### and output ######\n",
    "    #####################\n",
    "    if minimum(eigen(hess(xmin)).values) > 0 && maximum(abs.(grad(xmin))) < 1e-10\n",
    "        @timeit \"vacua\" vacua, θparalleltest, Qtilde = vacua_out(h11, QV, LV)\n",
    "        @timeit \"a\" a = mod.(((θparalleltest * xmin)/2π),1)\n",
    "        a_sign::Vector{Int} = sign.(a)\n",
    "        a_log::Vector{Float64} = log10.(abs.(a))\n",
    "        Vmin_sign::Int = sign(Vmin)\n",
    "        Vmin_log::Float64 = log10(abs(Vmin))\n",
    "        xmin_log::Vector{Float64} = log10.(abs.(xmin))\n",
    "        xmin_sign::Vector{Int} = sign.(xmin)\n",
    "        print_timer()\n",
    "        a_sign, a_log, θparalleltest\n",
    "    end\n",
    "end\n",
    "\n"
   ]
  },
  {
   "cell_type": "code",
   "execution_count": 5,
   "metadata": {},
   "outputs": [
    {
     "data": {
      "text/plain": [
       "minimiser"
      ]
     },
     "execution_count": 5,
     "metadata": {},
     "output_type": "execute_result"
    }
   ],
   "source": [
    "\"\"\"\n",
    "    minimiser(h11,tri,cy,LV,QV,x0,algo)\n",
    "Optimization function for a particular geometry labelled by `h11`, `tri`, and `cy`.  Takes instanton scales, `Λ`, \n",
    "and instanton charges, `Q`, as inputs, as well as some initialisation coordinates `x0`.  Requires specification\n",
    "of optimisation algorithm _with hessian_, `algo`, _i.e._ `Newton()` or `BFGS()`\n",
    "\n",
    "Also computes analytic estimate of number of vacua.\n",
    "\n",
    "Returns:\n",
    " - Sign of location of minimum found (mod 2π)\n",
    " - log10 of location of minimum found (mod 2π)\n",
    " - Matrix of approximate locations of minima (analytic)\n",
    "\"\"\"\n",
    "function minimiser(h11::Int,tri::Int,cy::Int,LV::Vector,QV::Matrix{Int},x0::Vector,algo)\n",
    "    \n",
    "    Qx = zeros(ArbFloat,size(QV,1));\n",
    "    \"\"\"\n",
    "        fitness(x)\n",
    "    This is the potential that is optimized at with some initial starting point x\n",
    "    \"\"\"\n",
    "    function fitness(x::Vector)\n",
    "        if size(x,1)!=h11\n",
    "            return \"Error, check x\"\n",
    "        end\n",
    "        V = dot(LV,(1 .- cos.(LinearAlgebra.mul!(Qx,QV,x))))\n",
    "        return V\n",
    "    end\n",
    "    \"\"\"\n",
    "        g!(x)\n",
    "    Updatable gradient of the potential at a point x for optimiser\n",
    "    \"\"\"\n",
    "    function g!(storage::Vector, x::Vector)\n",
    "        storage .= vcat([dot(LV,QV[:,i] .* sin.(LinearAlgebra.mul!(Qx,QV,x))) for i ∈ 1:h11]...)\n",
    "    end\n",
    "    \"\"\"\n",
    "        hess(x)\n",
    "    Hessian evaluated at x to verify eigvals(H(x))>0\n",
    "    \"\"\"\n",
    "    function hess(x::Vector)\n",
    "        grad2 = zeros(ArbFloat,(h11,h11))\n",
    "        hind1 = [[x,y]::Vector{Int64} for x=1:h11,y=1:h11 if x>=y]\n",
    "        grad2_temp = zeros(ArbFloat,size(hind1,1))\n",
    "        grad2_temp1 = zeros(Float64,size(LV,1),size(hind1,1))\n",
    "        @tullio Qx[c] = QV[c,i] * x[i]\n",
    "        @tullio grad2_temp1[c,k] = @inbounds(begin\n",
    "        i,j = hind1[k]\n",
    "                QV[c,i] * QV[c,j] * cos.(Qx[c]) end) grad=false fastmath=false\n",
    "        @tullio grad2_temp[k] = grad2_temp1[c,k] * LV[c]\n",
    "        @inbounds for i=1:size(hind1,1)\n",
    "            j,k = hind1[i]\n",
    "            grad2[j,k] = grad2_temp[i]\n",
    "        end\n",
    "        hessfull = Hermitian(grad2 + transpose(grad2) - Diagonal(grad2))\n",
    "    end\n",
    "    \"\"\"\n",
    "        hess!(x)\n",
    "    Updatable version of hessian for optimiser\n",
    "    \"\"\"\n",
    "    function hess!(hessian::Matrix, x::Vector)\n",
    "        grad2 = zeros(ArbFloat,(h11,h11))\n",
    "        hind1 = [[x,y]::Vector{Int64} for x=1:h11,y=1:h11 if x>=y]\n",
    "        grad2_temp = zeros(ArbFloat,size(hind1,1))\n",
    "        grad2_temp1 = zeros(Float64,size(LV,1),size(hind1,1))\n",
    "        @tullio Qx[c] = QV[c,i] * x[i]\n",
    "        @tullio grad2_temp1[c,k] = @inbounds(begin\n",
    "        i,j = hind1[k]\n",
    "                QV[c,i] * QV[c,j] * cos.(Qx[c]) end) grad=false\n",
    "        @tullio grad2_temp[k] = grad2_temp1[c,k] * LV[c]\n",
    "        @inbounds for i=1:size(hind1,1)\n",
    "            j,k = hind1[i]\n",
    "            grad2[j,k] = grad2_temp[i]\n",
    "        hessian .= grad2 + transpose(grad2) - Diagonal(grad2)\n",
    "        end\n",
    "    end\n",
    "    \"\"\"\n",
    "        grad(x)\n",
    "    Gradient of potential at x for verifying G(x)>0 at minimum\n",
    "    \"\"\"\n",
    "    grad(x) = vcat([dot(LV,QV[:,i] .* sin.(LinearAlgebra.mul!(Qx,QV,x))) for i ∈ 1:h11]...)\n",
    "    #################\n",
    "    ### Optimiser ###\n",
    "    #################\n",
    "    res = optimize(fitness,g!,hess!,\n",
    "                x0, algo,\n",
    "                Optim.Options(x_tol =minimum(abs.(LV)),g_tol =minimum(abs.(LV)),successive_f_tol = 5))\n",
    "    Vmin = Optim.minimum(res)\n",
    "    xmin = Optim.minimizer(res)\n",
    "    #####################\n",
    "    ## Verify minimum ###\n",
    "    ### and output ######\n",
    "    #####################\n",
    "    if minimum(eigen(hess(xmin)).values) > 0 && maximum(abs.(grad(xmin))) < 1e-10\n",
    "        vacua, θparalleltest, Qtilde = vacua_out(h11, QV, LV)\n",
    "        a = (θparalleltest * xmin)/2π\n",
    "        \n",
    "        a_sign = Int.(sign.(a))\n",
    "        a_log = [al ==0 ? 0 : Float64.(log10.(abs.(al))) for al in a]\n",
    "        Vmin_sign = Int(sign(Vmin))\n",
    "        Vmin_log = Float64(log10(abs(Vmin)))\n",
    "        xmin_log = Float64.(log10.(abs.(xmin)))\n",
    "        xmin_sign = Int.(sign.(xmin))\n",
    "        a_sign, a_log, θparalleltest\n",
    "    else\n",
    "        (zeros(h11),zeros(h11),zeros(h11,h11))\n",
    "    end\n",
    "end\n",
    "\n"
   ]
  },
  {
   "cell_type": "code",
   "execution_count": 20,
   "metadata": {},
   "outputs": [
    {
     "data": {
      "text/plain": [
       "main_test"
      ]
     },
     "execution_count": 20,
     "metadata": {},
     "output_type": "execute_result"
    }
   ],
   "source": [
    "\"\"\"\n",
    "    main_timing(x0)\n",
    "Function for looping over multiple initialisations (profiler)\n",
    "\"\"\"\n",
    "function main_timing(x0)\n",
    "    h11,tri,cy = 10,1,1\n",
    "    h11list = hcat([vcat(h11,tri,cy) for _=1:n]...)\n",
    "    algo_hz = Newton(alphaguess = LineSearches.InitialHagerZhang(α0=1.0), linesearch = LineSearches.HagerZhang());\n",
    "    return minimiser_timing(h11,tri,cy,LV,QV,x0,algo_hz)\n",
    "end\n",
    "\"\"\"\n",
    "    main_test(x0)\n",
    "Function for looping over multiple initialisations\n",
    "\"\"\"\n",
    "function main_test(x0)\n",
    "    h11list = hcat([vcat(h11,tri,cy) for _=1:n]...)\n",
    "    algo_hz = Newton(alphaguess = LineSearches.InitialHagerZhang(α0=1.0), linesearch = LineSearches.HagerZhang());\n",
    "    return minimiser(h11,tri,cy,LV,QV,x0,algo_hz)\n",
    "end"
   ]
  },
  {
   "cell_type": "code",
   "execution_count": 21,
   "metadata": {},
   "outputs": [
    {
     "data": {
      "text/plain": [
       "8×4 Matrix{Int64}:\n",
       "  1   0   0   0\n",
       "  0   1   0   0\n",
       "  0   0   1   0\n",
       "  0   0   0   1\n",
       " -3   5  -3  -1\n",
       " -2  -2  -2   4\n",
       " -3  -2  -3   0\n",
       "  0   1  -4  -3"
      ]
     },
     "execution_count": 21,
     "metadata": {},
     "output_type": "execute_result"
    }
   ],
   "source": [
    "h11,tri,cy = 4,1,1\n",
    "n=100 ##number of initialisations\n",
    "x0 = hcat([rand(Uniform(0,2π),h11) .* rand(ArbFloat,h11) for _=1:n]...);\n",
    "LV = pseudo_Lprime(h11,tri,cy)\n",
    "QV = pseudo_Qprime(h11,tri,cy)"
   ]
  },
  {
   "cell_type": "code",
   "execution_count": 22,
   "metadata": {},
   "outputs": [
    {
     "name": "stdout",
     "output_type": "stream",
     "text": [
      "  3.631709 seconds (33.09 M allocations: 877.348 MiB, 23.82% gc time, 29.06% compilation time)\n"
     ]
    }
   ],
   "source": [
    "@time res = mapslices(main_test,x0,dims=1);"
   ]
  },
  {
   "cell_type": "code",
   "execution_count": 25,
   "metadata": {},
   "outputs": [
    {
     "data": {
      "text/plain": [
       "4×52 Matrix{Float64}:\n",
       " 0.0        0.0        0.0        0.0  …  0.0        0.0       0.0\n",
       " 0.357145   0.857145   0.0714265  0.5     0.357145   0.142855  0.214285\n",
       " 7.2866e-6  7.2866e-6  5.8425e-6  0.0     7.2866e-6  0.999993  0.999997\n",
       " 0.785705   0.285705   0.35715    0.5     0.214295   0.285705  0.928567"
      ]
     },
     "execution_count": 25,
     "metadata": {},
     "output_type": "execute_result"
    }
   ],
   "source": [
    "### This tells us, within some tolerance, how many unique minima \n",
    "### have been found.  Some artefacts remain so check by eye in final set of minima\n",
    "unique_mins = unique(mod.(round.(hcat([10 .^res[i][2] for i=1:size(res,2)]...),digits=10),1),dims=2)"
   ]
  },
  {
   "cell_type": "code",
   "execution_count": 24,
   "metadata": {},
   "outputs": [
    {
     "data": {
      "text/plain": [
       "1.0"
      ]
     },
     "execution_count": 24,
     "metadata": {},
     "output_type": "execute_result"
    }
   ],
   "source": [
    "## Check analytic computation of number of vacua\n",
    "## is equal to number of unique minima found by optimization\n",
    "vacua = vacua_out(h11,QV,LV)[1]\n",
    "if vacua != size(unique_mins,2)\n",
    "    vacua\n",
    "else\n",
    "    true\n",
    "end"
   ]
  },
  {
   "cell_type": "code",
   "execution_count": null,
   "metadata": {},
   "outputs": [],
   "source": []
  }
 ],
 "metadata": {
  "kernelspec": {
   "display_name": "Julia latest 1.7.1",
   "language": "julia",
   "name": "julia-latest-1.7"
  },
  "language_info": {
   "file_extension": ".jl",
   "mimetype": "application/julia",
   "name": "julia",
   "version": "1.7.1"
  }
 },
 "nbformat": 4,
 "nbformat_minor": 4
}
